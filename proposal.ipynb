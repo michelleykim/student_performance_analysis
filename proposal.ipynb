{
 "cells": [
  {
   "cell_type": "markdown",
   "metadata": {},
   "source": [
    "# DSCI 100 - Proposal\n",
    "### project-003-7: Nicole Campbell, Michelle Kim, Jason Liu, Zahra Raza"
   ]
  },
  {
   "cell_type": "markdown",
   "metadata": {},
   "source": [
    "## Introduction\n",
    "Lorem ipsum dolor sit amet, consectetur adipiscing elit. Cras in porttitor magna. Vivamus a odio quis nisi consectetur posuere. Ut et dolor lectus. Aenean lobortis sollicitudin viverra. Vestibulum elementum hendrerit pulvinar. Cras massa lacus, condimentum et tincidunt sit amet, gravida vitae felis. Mauris sit amet eros eget mi malesuada gravida vestibulum quis nisl. Etiam a mollis turpis. Pellentesque eu elit at sapien dapibus tempus non ut quam. In hac habitasse platea dictumst. Pellentesque congue placerat odio non porttitor. Nulla dictum venenatis dui, in malesuada augue luctus quis. Sed bibendum orci ut sem pretium commodo sit amet quis dolor. Maecenas maximus vulputate diam, nec commodo sapien faucibus quis."
   ]
  },
  {
   "cell_type": "code",
   "execution_count": null,
   "metadata": {},
   "outputs": [],
   "source": [
    "### Run this cell before continuing.\n",
    "library(tidyverse)\n",
    "library(repr)\n",
    "library(tidymodels)\n",
    "options(repr.matrix.max.rows = 6)"
   ]
  },
  {
   "cell_type": "code",
   "execution_count": null,
   "metadata": {},
   "outputs": [],
   "source": [
    "# This code was part of student-merge.R that came with the data\n",
    "d1=read.table(\"student-mat.csv\",sep=\";\",header=TRUE)\n",
    "d2=read.table(\"student-por.csv\",sep=\";\",header=TRUE)\n",
    "\n",
    "d3=merge(d1,d2,by=c(\"school\",\"sex\",\"age\",\"address\",\"famsize\",\"Pstatus\",\"Medu\",\"Fedu\",\"Mjob\",\"Fjob\",\"reason\",\"nursery\",\"internet\"))\n",
    "print(nrow(d3)) # 382 students"
   ]
  }
 ],
 "metadata": {
  "kernelspec": {
   "display_name": "Python 3",
   "language": "python",
   "name": "python3"
  },
  "language_info": {
   "codemirror_mode": {
    "name": "ipython",
    "version": 3
   },
   "file_extension": ".py",
   "mimetype": "text/x-python",
   "name": "python",
   "nbconvert_exporter": "python",
   "pygments_lexer": "ipython3",
   "version": "3.8.5"
  }
 },
 "nbformat": 4,
 "nbformat_minor": 4
}
