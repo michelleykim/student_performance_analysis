{
 "cells": [
  {
   "cell_type": "markdown",
   "metadata": {},
   "source": [
    "# DSCI 100 - Report\n",
    "### project-003-7: Nicole Campbell, Michelle Kim, Jason Liu, Zahra Raza"
   ]
  },
  {
   "cell_type": "markdown",
   "metadata": {},
   "source": [
    "## Introduction\n",
    "\n",
    "[WE NEED TO CHANGE THIS]\n",
    "Our project is centered around factors that influence a student’s decision to pursue higher education based on academic performance. A student’s academic performance is often affected by different social and environmental factors. Thus, objective analysis on the relationship between those factors is critical to bolster maximum academic success. \n",
    " \n",
    "We will be working with the data set “Student Performance”, collected by Paulo Cortez at the University of Minho. The data set contains information gathered from students at two Portugese secondary students. The information collected includes student grades, social and study habits, and family background. The data set tracks first and second period grades as well as final grades in Portugese\n",
    " \n",
    "We will try to answer the following question in this report:\n",
    "Can we predict a student's study time, given Portuguese grades or math grades?"
   ]
  },
  {
   "cell_type": "markdown",
   "metadata": {},
   "source": [
    "## Methods and Results"
   ]
  },
  {
   "cell_type": "code",
   "execution_count": 1,
   "metadata": {},
   "outputs": [
    {
     "name": "stderr",
     "output_type": "stream",
     "text": [
      "── \u001b[1mAttaching packages\u001b[22m ─────────────────────────────────────── tidyverse 1.3.0 ──\n",
      "\n",
      "\u001b[32m✔\u001b[39m \u001b[34mggplot2\u001b[39m 3.3.2     \u001b[32m✔\u001b[39m \u001b[34mpurrr  \u001b[39m 0.3.4\n",
      "\u001b[32m✔\u001b[39m \u001b[34mtibble \u001b[39m 3.0.3     \u001b[32m✔\u001b[39m \u001b[34mdplyr  \u001b[39m 1.0.2\n",
      "\u001b[32m✔\u001b[39m \u001b[34mtidyr  \u001b[39m 1.1.2     \u001b[32m✔\u001b[39m \u001b[34mstringr\u001b[39m 1.4.0\n",
      "\u001b[32m✔\u001b[39m \u001b[34mreadr  \u001b[39m 1.3.1     \u001b[32m✔\u001b[39m \u001b[34mforcats\u001b[39m 0.5.0\n",
      "\n",
      "Warning message:\n",
      "“package ‘ggplot2’ was built under R version 4.0.1”\n",
      "Warning message:\n",
      "“package ‘tibble’ was built under R version 4.0.2”\n",
      "Warning message:\n",
      "“package ‘tidyr’ was built under R version 4.0.2”\n",
      "Warning message:\n",
      "“package ‘dplyr’ was built under R version 4.0.2”\n",
      "── \u001b[1mConflicts\u001b[22m ────────────────────────────────────────── tidyverse_conflicts() ──\n",
      "\u001b[31m✖\u001b[39m \u001b[34mdplyr\u001b[39m::\u001b[32mfilter()\u001b[39m masks \u001b[34mstats\u001b[39m::filter()\n",
      "\u001b[31m✖\u001b[39m \u001b[34mdplyr\u001b[39m::\u001b[32mlag()\u001b[39m    masks \u001b[34mstats\u001b[39m::lag()\n",
      "\n",
      "Warning message:\n",
      "“package ‘tidymodels’ was built under R version 4.0.2”\n",
      "── \u001b[1mAttaching packages\u001b[22m ────────────────────────────────────── tidymodels 0.1.1 ──\n",
      "\n",
      "\u001b[32m✔\u001b[39m \u001b[34mbroom    \u001b[39m 0.7.0      \u001b[32m✔\u001b[39m \u001b[34mrecipes  \u001b[39m 0.1.13\n",
      "\u001b[32m✔\u001b[39m \u001b[34mdials    \u001b[39m 0.0.9      \u001b[32m✔\u001b[39m \u001b[34mrsample  \u001b[39m 0.0.7 \n",
      "\u001b[32m✔\u001b[39m \u001b[34minfer    \u001b[39m 0.5.4      \u001b[32m✔\u001b[39m \u001b[34mtune     \u001b[39m 0.1.1 \n",
      "\u001b[32m✔\u001b[39m \u001b[34mmodeldata\u001b[39m 0.0.2      \u001b[32m✔\u001b[39m \u001b[34mworkflows\u001b[39m 0.2.0 \n",
      "\u001b[32m✔\u001b[39m \u001b[34mparsnip  \u001b[39m 0.1.3      \u001b[32m✔\u001b[39m \u001b[34myardstick\u001b[39m 0.0.7 \n",
      "\n",
      "Warning message:\n",
      "“package ‘broom’ was built under R version 4.0.2”\n",
      "Warning message:\n",
      "“package ‘dials’ was built under R version 4.0.2”\n",
      "Warning message:\n",
      "“package ‘infer’ was built under R version 4.0.3”\n",
      "Warning message:\n",
      "“package ‘modeldata’ was built under R version 4.0.1”\n",
      "Warning message:\n",
      "“package ‘parsnip’ was built under R version 4.0.2”\n",
      "Warning message:\n",
      "“package ‘recipes’ was built under R version 4.0.1”\n",
      "Warning message:\n",
      "“package ‘tune’ was built under R version 4.0.2”\n",
      "Warning message:\n",
      "“package ‘workflows’ was built under R version 4.0.2”\n",
      "Warning message:\n",
      "“package ‘yardstick’ was built under R version 4.0.2”\n",
      "── \u001b[1mConflicts\u001b[22m ───────────────────────────────────────── tidymodels_conflicts() ──\n",
      "\u001b[31m✖\u001b[39m \u001b[34mscales\u001b[39m::\u001b[32mdiscard()\u001b[39m masks \u001b[34mpurrr\u001b[39m::discard()\n",
      "\u001b[31m✖\u001b[39m \u001b[34mdplyr\u001b[39m::\u001b[32mfilter()\u001b[39m   masks \u001b[34mstats\u001b[39m::filter()\n",
      "\u001b[31m✖\u001b[39m \u001b[34mrecipes\u001b[39m::\u001b[32mfixed()\u001b[39m  masks \u001b[34mstringr\u001b[39m::fixed()\n",
      "\u001b[31m✖\u001b[39m \u001b[34mdplyr\u001b[39m::\u001b[32mlag()\u001b[39m      masks \u001b[34mstats\u001b[39m::lag()\n",
      "\u001b[31m✖\u001b[39m \u001b[34myardstick\u001b[39m::\u001b[32mspec()\u001b[39m masks \u001b[34mreadr\u001b[39m::spec()\n",
      "\u001b[31m✖\u001b[39m \u001b[34mrecipes\u001b[39m::\u001b[32mstep()\u001b[39m   masks \u001b[34mstats\u001b[39m::step()\n",
      "\n"
     ]
    }
   ],
   "source": [
    "### Run this cell before continuing. \n",
    "library(tidyverse)\n",
    "library(tidymodels)\n",
    "library(repr)\n",
    "library(RColorBrewer)\n",
    "options(repr.matrix.max.rows = 6)"
   ]
  },
  {
   "cell_type": "markdown",
   "metadata": {},
   "source": [
    "First, we loaded our data directly from github.\n",
    "\n",
    "The origianal file includes both math and portuguese, but we only downloaded math dataframe becasue we are only going to use math grades to predict students studytime.\n",
    "\n",
    "Then selected only the variables of interest out of i-dont-know-how-many variables. \n",
    "\n",
    "*describe variables*\n",
    "\n",
    "Declared studytime as a factor since that is what we want to categorize students based on their math grades.\n",
    "\n",
    "Splited the whole dataset into training and testing sets. \n",
    "\n",
    "Used prop = 0.75 since the dataset in total has x number of students which is small enough that we will get reasonable amount of trainign adn testing data with this split. "
   ]
  },
  {
   "cell_type": "code",
   "execution_count": 2,
   "metadata": {},
   "outputs": [
    {
     "name": "stderr",
     "output_type": "stream",
     "text": [
      "Parsed with column specification:\n",
      "cols(\n",
      "  .default = col_character(),\n",
      "  age = \u001b[32mcol_double()\u001b[39m,\n",
      "  Medu = \u001b[32mcol_double()\u001b[39m,\n",
      "  Fedu = \u001b[32mcol_double()\u001b[39m,\n",
      "  traveltime = \u001b[32mcol_double()\u001b[39m,\n",
      "  studytime = \u001b[32mcol_double()\u001b[39m,\n",
      "  failures = \u001b[32mcol_double()\u001b[39m,\n",
      "  famrel = \u001b[32mcol_double()\u001b[39m,\n",
      "  freetime = \u001b[32mcol_double()\u001b[39m,\n",
      "  goout = \u001b[32mcol_double()\u001b[39m,\n",
      "  Dalc = \u001b[32mcol_double()\u001b[39m,\n",
      "  Walc = \u001b[32mcol_double()\u001b[39m,\n",
      "  health = \u001b[32mcol_double()\u001b[39m,\n",
      "  absences = \u001b[32mcol_double()\u001b[39m,\n",
      "  G1 = \u001b[32mcol_double()\u001b[39m,\n",
      "  G2 = \u001b[32mcol_double()\u001b[39m,\n",
      "  G3 = \u001b[32mcol_double()\u001b[39m\n",
      ")\n",
      "\n",
      "See spec(...) for full column specifications.\n",
      "\n"
     ]
    }
   ],
   "source": [
    "set.seed(400);\n",
    "\n",
    "#Read data set from the web into R\n",
    "student_mat <- read_delim(\"https://raw.githubusercontent.com/michelleykim/student_performance_analysis/main/data/student-mat.csv\", delim = \";\")\n",
    "\n",
    "# Clean and wrangle data into tidy format\n",
    "mat_select <- student_mat %>%\n",
    "                select(\"studytime\", \"G1\", \"G2\", \"G3\") %>%\n",
    "                mutate(studytime = as_factor(studytime))\n",
    "\n",
    "# Obtain training set:\n",
    "# We chose prop= 0.75 since the data set is small enough that we will still \n",
    "# have a reasonable amount of training and testing data with this split.\n",
    "mat_split <- initial_split(mat_select, prop = 0.75, strata = studytime) \n",
    "mat_train <- training(mat_split)\n",
    "mat_test <- testing(mat_split)\n"
   ]
  },
  {
   "cell_type": "markdown",
   "metadata": {},
   "source": [
    "We decided to use K-NN classification rather than regression because the data collected studytime as a categorical variable. \n",
    "\n",
    "We didn't scaled or centered the data since the original data was already scaled and centered by the institution.\n",
    "\n",
    "Choose v = 5 since we thought that would give us enough folding while not taking up too mcuh time.\n",
    "\n",
    "Then we plotted the accuracies for each neighbours to choose k value. "
   ]
  },
  {
   "cell_type": "code",
   "execution_count": 3,
   "metadata": {},
   "outputs": [
    {
     "name": "stderr",
     "output_type": "stream",
     "text": [
      "Warning message:\n",
      "“`step_upsample()` is deprecated as of recipes 0.1.13.\n",
      "Please use `themis::step_upsample()` instead.\n",
      "\u001b[90mThis warning is displayed once every 8 hours.\u001b[39m\n",
      "\u001b[90mCall `lifecycle::last_warnings()` to see where this warning was generated.\u001b[39m”\n"
     ]
    },
    {
     "data": {
      "image/png": "[encoded data removed]",
      "text/plain": [
       "plot without title"
      ]
     },
     "metadata": {
      "image/png": {
       "height": 420,
       "width": 420
      }
     },
     "output_type": "display_data"
    }
   ],
   "source": [
    "set.seed(400);\n",
    "\n",
    "# vfold_cv\n",
    "mat_vfold <- vfold_cv(mat_train, v = 5, strata = studytime)\n",
    "\n",
    "# balancing\n",
    "mat_overpop_recipe <- recipe(studytime ~., data = mat_train) %>%\n",
    "        step_upsample(studytime, over_ratio = 1, skip = FALSE) %>%\n",
    "        prep()\n",
    "mat_overpop <- bake(mat_overpop_recipe, mat_train)\n",
    "\n",
    "#recipe\n",
    "mat_recipe <- recipe(studytime ~., data = mat_overpop)\n",
    "\n",
    "# nearest_neighbour\n",
    "knn_spec <- nearest_neighbor(weight_func = \"rectangular\", neighbors = tune()) %>%\n",
    "        set_engine(\"kknn\") %>%\n",
    "        set_mode(\"classification\")\n",
    "\n",
    "# workflow & tune_grid\n",
    "knn_workflow <- workflow() %>%\n",
    "        add_recipe(mat_recipe) %>%\n",
    "        add_model(knn_spec) %>%\n",
    "        tune_grid(resamples = mat_vfold, grid = 10) %>%\n",
    "        collect_metrics()\n",
    "\n",
    "# produce accuracy graph to determine the k value\n",
    "accuracies <- knn_workflow %>%\n",
    "        filter(.metric == \"accuracy\")\n",
    "cross_val_plot <- ggplot(accuracies, aes(x = neighbors, y = mean)) +\n",
    "        geom_point() +\n",
    "        geom_line() +\n",
    "        labs(x = \"neighbors\", y = \"accuracies\") +\n",
    "        scale_x_continuous(breaks = seq(0, 15, by = 1))\n",
    "\n",
    "cross_val_plot"
   ]
  },
  {
   "cell_type": "markdown",
   "metadata": {},
   "source": [
    "Based on the cross validation graph, the nearest_neighbor algorithm give the highest accuracy when 9 neighbors were used for prediction. \n",
    "\n",
    "\n",
    "Although the highest accuracies showed when 12 neighbors were used but we were worried that going over 10 neighbors would cause ...\n",
    "\n",
    "Also, since the difference in accuracies between using 9 neighbors and 12 neighbours is small, which leaves both being potentially the optimal accuracy. \n",
    "\n",
    "Using the K value determined from the graph, we predict the studytime of testing set data and found the accuracy "
   ]
  },
  {
   "cell_type": "code",
   "execution_count": 4,
   "metadata": {},
   "outputs": [
    {
     "data": {
      "text/html": [
       "<table>\n",
       "<caption>A tibble: 98 × 5</caption>\n",
       "<thead>\n",
       "\t<tr><th scope=col>.pred_class</th><th scope=col>studytime</th><th scope=col>G1</th><th scope=col>G2</th><th scope=col>G3</th></tr>\n",
       "\t<tr><th scope=col>&lt;fct&gt;</th><th scope=col>&lt;fct&gt;</th><th scope=col>&lt;dbl&gt;</th><th scope=col>&lt;dbl&gt;</th><th scope=col>&lt;dbl&gt;</th></tr>\n",
       "</thead>\n",
       "<tbody>\n",
       "\t<tr><td>2</td><td>2</td><td>5</td><td> 5</td><td> 6</td></tr>\n",
       "\t<tr><td>2</td><td>2</td><td>7</td><td> 8</td><td>10</td></tr>\n",
       "\t<tr><td>2</td><td>2</td><td>6</td><td>10</td><td>10</td></tr>\n",
       "\t<tr><td>⋮</td><td>⋮</td><td>⋮</td><td>⋮</td><td>⋮</td></tr>\n",
       "\t<tr><td>1</td><td>2</td><td> 7</td><td> 9</td><td> 8</td></tr>\n",
       "\t<tr><td>1</td><td>2</td><td> 6</td><td> 5</td><td> 0</td></tr>\n",
       "\t<tr><td>2</td><td>1</td><td>14</td><td>16</td><td>16</td></tr>\n",
       "</tbody>\n",
       "</table>\n"
      ],
      "text/latex": [
       "A tibble: 98 × 5\n",
       "\\begin{tabular}{lllll}\n",
       " .pred\\_class & studytime & G1 & G2 & G3\\\\\n",
       " <fct> & <fct> & <dbl> & <dbl> & <dbl>\\\\\n",
       "\\hline\n",
       "\t 2 & 2 & 5 &  5 &  6\\\\\n",
       "\t 2 & 2 & 7 &  8 & 10\\\\\n",
       "\t 2 & 2 & 6 & 10 & 10\\\\\n",
       "\t ⋮ & ⋮ & ⋮ & ⋮ & ⋮\\\\\n",
       "\t 1 & 2 &  7 &  9 &  8\\\\\n",
       "\t 1 & 2 &  6 &  5 &  0\\\\\n",
       "\t 2 & 1 & 14 & 16 & 16\\\\\n",
       "\\end{tabular}\n"
      ],
      "text/markdown": [
       "\n",
       "A tibble: 98 × 5\n",
       "\n",
       "| .pred_class &lt;fct&gt; | studytime &lt;fct&gt; | G1 &lt;dbl&gt; | G2 &lt;dbl&gt; | G3 &lt;dbl&gt; |\n",
       "|---|---|---|---|---|\n",
       "| 2 | 2 | 5 |  5 |  6 |\n",
       "| 2 | 2 | 7 |  8 | 10 |\n",
       "| 2 | 2 | 6 | 10 | 10 |\n",
       "| ⋮ | ⋮ | ⋮ | ⋮ | ⋮ |\n",
       "| 1 | 2 |  7 |  9 |  8 |\n",
       "| 1 | 2 |  6 |  5 |  0 |\n",
       "| 2 | 1 | 14 | 16 | 16 |\n",
       "\n"
      ],
      "text/plain": [
       "   .pred_class studytime G1 G2 G3\n",
       "1  2           2         5   5  6\n",
       "2  2           2         7   8 10\n",
       "3  2           2         6  10 10\n",
       "⋮  ⋮           ⋮         ⋮  ⋮  ⋮ \n",
       "96 1           2          7  9  8\n",
       "97 1           2          6  5  0\n",
       "98 2           1         14 16 16"
      ]
     },
     "metadata": {},
     "output_type": "display_data"
    },
    {
     "data": {
      "text/html": [
       "<table>\n",
       "<caption>A tibble: 2 × 3</caption>\n",
       "<thead>\n",
       "\t<tr><th scope=col>.metric</th><th scope=col>.estimator</th><th scope=col>.estimate</th></tr>\n",
       "\t<tr><th scope=col>&lt;chr&gt;</th><th scope=col>&lt;chr&gt;</th><th scope=col>&lt;dbl&gt;</th></tr>\n",
       "</thead>\n",
       "<tbody>\n",
       "\t<tr><td>accuracy</td><td>multiclass</td><td>0.4897959</td></tr>\n",
       "\t<tr><td>kap     </td><td>multiclass</td><td>0.1073055</td></tr>\n",
       "</tbody>\n",
       "</table>\n"
      ],
      "text/latex": [
       "A tibble: 2 × 3\n",
       "\\begin{tabular}{lll}\n",
       " .metric & .estimator & .estimate\\\\\n",
       " <chr> & <chr> & <dbl>\\\\\n",
       "\\hline\n",
       "\t accuracy & multiclass & 0.4897959\\\\\n",
       "\t kap      & multiclass & 0.1073055\\\\\n",
       "\\end{tabular}\n"
      ],
      "text/markdown": [
       "\n",
       "A tibble: 2 × 3\n",
       "\n",
       "| .metric &lt;chr&gt; | .estimator &lt;chr&gt; | .estimate &lt;dbl&gt; |\n",
       "|---|---|---|\n",
       "| accuracy | multiclass | 0.4897959 |\n",
       "| kap      | multiclass | 0.1073055 |\n",
       "\n"
      ],
      "text/plain": [
       "  .metric  .estimator .estimate\n",
       "1 accuracy multiclass 0.4897959\n",
       "2 kap      multiclass 0.1073055"
      ]
     },
     "metadata": {},
     "output_type": "display_data"
    },
    {
     "data": {
      "text/plain": [
       "          Truth\n",
       "Prediction  1  2  3  4\n",
       "         1  8  6  2  1\n",
       "         2 15 39 12  9\n",
       "         3  2  3  1  0\n",
       "         4  0  0  0  0"
      ]
     },
     "metadata": {},
     "output_type": "display_data"
    }
   ],
   "source": [
    "set.seed(400);\n",
    "\n",
    "# nearest_neighbour with k = 9, workflow \n",
    "mat_spec <- nearest_neighbor(weight_func = \"rectangular\", neighbors = 9) %>%\n",
    "        set_engine(\"kknn\") %>%\n",
    "        set_mode(\"classification\")\n",
    "\n",
    "mat_fit <- workflow() %>%\n",
    "        add_recipe(mat_recipe) %>%\n",
    "        add_model(mat_spec) %>%\n",
    "        fit(data = mat_train)\n",
    "\n",
    "# predict\n",
    "mat_predictions <- predict(mat_fit, mat_test) %>%\n",
    "        bind_cols(mat_test)\n",
    "\n",
    "# maybe do metrics, conf_mat\n",
    "mat_metrics <- mat_predictions %>%\n",
    "        metrics(truth = studytime, estimate = .pred_class)\n",
    "mat_conf_mat <- mat_predictions %>%\n",
    "        conf_mat(truth = studytime, estimate = .pred_class)\n",
    "\n",
    "# print\n",
    "mat_predictions\n",
    "mat_metrics\n",
    "mat_conf_mat"
   ]
  },
  {
   "cell_type": "markdown",
   "metadata": {},
   "source": [
    "## Discussion\n",
    "\n",
    "- summarize what you found\n",
    "- discuss whether this is what you expected to find?\n",
    "- discuss what impact could such findings have?\n",
    "- discuss what future questions could this lead to?"
   ]
  },
  {
   "cell_type": "markdown",
   "metadata": {},
   "source": [
    "## Reference\n",
    "P. Cortez and A. Silva. Using Data Mining to Predict Secondary School Student Performance. In A. Brito and J. Teixeira Eds., Proceedings of 5th FUture BUsiness TEChnology Conference (FUBUTEC 2008) pp. 5-12, Porto, Portugal, April, 2008, EUROSIS, ISBN 978-9077381-39-7. https://archive.ics.uci.edu/ml/datasets/Student+Performance#\n"
   ]
  },
  {
   "cell_type": "code",
   "execution_count": null,
   "metadata": {},
   "outputs": [],
   "source": []
  }
 ],
 "metadata": {
  "kernelspec": {
   "display_name": "R",
   "language": "R",
   "name": "ir"
  },
  "language_info": {
   "codemirror_mode": "r",
   "file_extension": ".r",
   "mimetype": "text/x-r-source",
   "name": "R",
   "pygments_lexer": "r",
   "version": "4.0.0"
  }
 },
 "nbformat": 4,
 "nbformat_minor": 4
}
